{
 "cells": [
  {
   "cell_type": "markdown",
   "id": "39edbd47-7105-4024-afde-afc3f136b491",
   "metadata": {},
   "source": [
    "# Programming Assignment 4\n",
    "---\n",
    "**Author:** Nikola Mrdak  \n",
    "**Version:** 1.0  \n",
    "**Semester:** Spring 2024 \n",
    "\n",
    "This *notebook* contains my solution(s) to **Programming Assignment 4**"
   ]
  },
  {
   "cell_type": "code",
   "execution_count": 3,
   "id": "08f08f91-393a-4002-99ca-f53fdd68430c",
   "metadata": {
    "tags": []
   },
   "outputs": [],
   "source": [
    "import math"
   ]
  },
  {
   "cell_type": "code",
   "execution_count": 4,
   "id": "a2c41732-bf48-41cf-b770-fd38cc36c473",
   "metadata": {
    "tags": []
   },
   "outputs": [],
   "source": [
    "import random "
   ]
  },
  {
   "cell_type": "markdown",
   "id": "abe3bb8f-39d1-463a-9300-e49f72cfb55b",
   "metadata": {},
   "source": [
    "### Problem 1 - Swapping List Elements"
   ]
  },
  {
   "cell_type": "code",
   "execution_count": 109,
   "id": "f23271b0-1364-4c46-a96d-802e6a75d880",
   "metadata": {
    "tags": []
   },
   "outputs": [],
   "source": [
    "def swap_first_last():\n",
    "    numbers1 = list()\n",
    "    for n in range(10):\n",
    "        numbers1.append(random.randint(1,101))\n",
    "    numbers2 = numbers1\n",
    "    numbers2[0] = numbers2[-1]\n",
    "    numbers2[-1] = numbers1[0]\n",
    "    return numbers1, numbers2"
   ]
  },
  {
   "cell_type": "code",
   "execution_count": 110,
   "id": "1a366ded-f1de-4fd8-a630-7cd0beeb0538",
   "metadata": {
    "tags": []
   },
   "outputs": [
    {
     "name": "stdout",
     "output_type": "stream",
     "text": [
      "[84, 82, 44, 93, 13, 98, 29, 75, 89, 84] | [84, 82, 44, 93, 13, 98, 29, 75, 89, 84]\n"
     ]
    }
   ],
   "source": [
    "N1, N2 = swap_first_last()\n",
    "print(f'{N1} | {N2}')"
   ]
  },
  {
   "cell_type": "code",
   "execution_count": null,
   "id": "ef3590f8-e851-4521-8d87-89bfaccb0b2a",
   "metadata": {},
   "outputs": [],
   "source": []
  },
  {
   "cell_type": "code",
   "execution_count": null,
   "id": "a21cf333-78d1-4978-bd3b-14cc0aa753c3",
   "metadata": {},
   "outputs": [],
   "source": []
  },
  {
   "cell_type": "markdown",
   "id": "85d2b3b2-25f5-494d-bd52-cdf6ea2f25ec",
   "metadata": {},
   "source": [
    "### Problem 2 - Encoding Data"
   ]
  },
  {
   "cell_type": "code",
   "execution_count": 94,
   "id": "2a35861c-492a-4560-9f11-67048dbeb79d",
   "metadata": {
    "tags": []
   },
   "outputs": [],
   "source": [
    "numbers = []\n",
    "for i in range(100):\n",
    "    numbers.append(random.randint(0,100))"
   ]
  },
  {
   "cell_type": "code",
   "execution_count": 92,
   "id": "ce59810c-e659-4508-a67c-cb5e36c259c7",
   "metadata": {},
   "outputs": [
    {
     "ename": "SyntaxError",
     "evalue": "invalid syntax (59286319.py, line 5)",
     "output_type": "error",
     "traceback": [
      "\u001b[1;36m  Cell \u001b[1;32mIn[92], line 5\u001b[1;36m\u001b[0m\n\u001b[1;33m    encoded numbers = numbers\u001b[0m\n\u001b[1;37m            ^\u001b[0m\n\u001b[1;31mSyntaxError\u001b[0m\u001b[1;31m:\u001b[0m invalid syntax\n"
     ]
    }
   ],
   "source": [
    "def encode(numbers):\n",
    "    for i in numbers:\n",
    "        if i % 2 ==0:\n",
    "            i = 1\n",
    "        else:\n",
    "            i = -1\n",
    "    return \n",
    "    \n",
    "    \n",
    "    \n",
    "    "
   ]
  },
  {
   "cell_type": "code",
   "execution_count": 89,
   "id": "34eade54-1f34-4ead-a2df-d780418115ee",
   "metadata": {},
   "outputs": [
    {
     "name": "stdout",
     "output_type": "stream",
     "text": [
      "List:[32, 80, 21, 65, 71, 1, 8, 91, 92, 6, 42, 96, 18, 46, 22, 96, 27, 7, 86, 6, 41, 39, 49, 76, 15, 78, 84, 10, 91, 85, 95, 15, 18, 12, 33, 52, 77, 95, 35, 25, 40, 90, 77, 85, 55, 41, 26, 13, 85, 26, 35, 21, 97, 48, 2, 65, 96, 62, 17, 64, 41, 60, 24, 98, 66, 1, 80, 75, 69, 95, 38, 83, 9, 77, 40, 42, 36, 88, 37, 3, 92, 93, 27, 61, 41, 56, 55, 57, 87, 81, 89, 16, 8, 68, 90, 61, 66, 44, 74, 54]\n"
     ]
    }
   ],
   "source": [
    "N = encode()\n",
    "print(f'List:{N}') #Encoded List:{E}')"
   ]
  },
  {
   "cell_type": "code",
   "execution_count": 91,
   "id": "b424e6be-bca2-4641-8e75-923116707254",
   "metadata": {},
   "outputs": [
    {
     "name": "stdout",
     "output_type": "stream",
     "text": [
      "(numbers)? \n",
      "        0 file(s) copied.\n"
     ]
    },
    {
     "name": "stderr",
     "output_type": "stream",
     "text": [
      "The system cannot find the file specified.\n"
     ]
    }
   ],
   "source": [
    "copy(numbers)?"
   ]
  },
  {
   "cell_type": "markdown",
   "id": "2b811252-d9f4-4ab4-a12e-f471df0e9ea0",
   "metadata": {},
   "source": [
    "### Problem 3 - Rotating Tuples"
   ]
  },
  {
   "cell_type": "code",
   "execution_count": 54,
   "id": "fa6dd119-4532-4e37-9cf1-fdf059ee48f0",
   "metadata": {
    "tags": []
   },
   "outputs": [
    {
     "data": {
      "text/plain": [
       "'Lyndon'"
      ]
     },
     "execution_count": 54,
     "metadata": {},
     "output_type": "execute_result"
    }
   ],
   "source": [
    "tuple = (['Lyndon', 'B. Johnson', 36])\n",
    "tuple[0]"
   ]
  },
  {
   "cell_type": "code",
   "execution_count": 52,
   "id": "1630e257-3e4e-4221-8541-234ff92d90bc",
   "metadata": {},
   "outputs": [
    {
     "ename": "SyntaxError",
     "evalue": "incomplete input (3166284967.py, line 3)",
     "output_type": "error",
     "traceback": [
      "\u001b[1;36m  Cell \u001b[1;32mIn[52], line 3\u001b[1;36m\u001b[0m\n\u001b[1;33m    \u001b[0m\n\u001b[1;37m    ^\u001b[0m\n\u001b[1;31mSyntaxError\u001b[0m\u001b[1;31m:\u001b[0m incomplete input\n"
     ]
    }
   ],
   "source": [
    "def rotate(tuple):\n",
    "    a,b,c = tuple[0:3]\n",
    "    return a,b,c\n",
    "    "
   ]
  },
  {
   "cell_type": "code",
   "execution_count": 70,
   "id": "414817d8-1518-4367-891c-db63df44b918",
   "metadata": {},
   "outputs": [
    {
     "data": {
      "text/plain": [
       "(36, 36, 36)"
      ]
     },
     "execution_count": 70,
     "metadata": {},
     "output_type": "execute_result"
    }
   ],
   "source": [
    "\n"
   ]
  },
  {
   "cell_type": "markdown",
   "id": "1facdba2-beba-4147-a595-3d67a1b742cb",
   "metadata": {},
   "source": [
    "### Problem 4 - Creating a List of Tuples"
   ]
  },
  {
   "cell_type": "code",
   "execution_count": 5,
   "id": "c869c12a-53b3-4841-bdb1-7ab36ce6793a",
   "metadata": {
    "tags": []
   },
   "outputs": [],
   "source": [
    "def TweniethCenturyPres(First_Names, Last_Names, Term_Numbers):\n",
    "    Presidential_List = []\n",
    "    for F,L,T in zip(First_Names, Last_Names, Term_Numbers):\n",
    "        Presidential_List.append((F,L,T))\n",
    "    return Presidential_List"
   ]
  },
  {
   "cell_type": "code",
   "execution_count": 6,
   "id": "2f2f70df-ed13-4764-8c67-ce917db291b5",
   "metadata": {
    "tags": []
   },
   "outputs": [],
   "source": [
    "First_Names = ['William', 'Theodore', 'William', 'Woodrow', 'Warren', 'Calvin', 'Herbert', 'Franklin', 'Harry', 'Dwight', 'John', 'Lyndon', 'Richard', 'Gerald', 'Jimmy', 'Ronald', 'George', 'Bill'] "
   ]
  },
  {
   "cell_type": "code",
   "execution_count": 7,
   "id": "8e82cf2c-781b-41a2-91fa-caefd5f1f6cc",
   "metadata": {},
   "outputs": [],
   "source": [
    "Last_Names = ['McKinley', 'Roosevelt', 'H. Taft', 'Wilson', 'G. Harding', 'Coolidge', 'Hoover', 'D. Roosevelt', 'S. Truman', 'D. Eisenhower', 'F. Kennedy', 'B. Johnson', 'M. Nixon', 'R. Ford', 'Carter', 'Reagan', 'H. W. Bush', 'Clinton'] "
   ]
  },
  {
   "cell_type": "code",
   "execution_count": 8,
   "id": "edad038d-21e8-4cd7-abd4-60e47993247b",
   "metadata": {
    "tags": []
   },
   "outputs": [],
   "source": [
    "Term_Numbers = []\n",
    "for i in range(25,43):\n",
    "    Term_Numbers.append(i)"
   ]
  },
  {
   "cell_type": "code",
   "execution_count": 9,
   "id": "833496b2-938c-440b-b6c5-1241cd486231",
   "metadata": {
    "tags": []
   },
   "outputs": [
    {
     "name": "stdout",
     "output_type": "stream",
     "text": [
      "[('William', 'McKinley', 25), ('Theodore', 'Roosevelt', 26), ('William', 'H. Taft', 27), ('Woodrow', 'Wilson', 28), ('Warren', 'G. Harding', 29), ('Calvin', 'Coolidge', 30), ('Herbert', 'Hoover', 31), ('Franklin', 'D. Roosevelt', 32), ('Harry', 'S. Truman', 33), ('Dwight', 'D. Eisenhower', 34), ('John', 'F. Kennedy', 35), ('Lyndon', 'B. Johnson', 36), ('Richard', 'M. Nixon', 37), ('Gerald', 'R. Ford', 38), ('Jimmy', 'Carter', 39), ('Ronald', 'Reagan', 40), ('George', 'H. W. Bush', 41), ('Bill', 'Clinton', 42)]\n"
     ]
    }
   ],
   "source": [
    "P = TweniethCenturyPres(First_Names, Last_Names, Term_Numbers)\n",
    "print(P) #Is there a way I can make the final output more visually appealing?"
   ]
  },
  {
   "cell_type": "markdown",
   "id": "f4e6fe74-6c8e-46b9-b674-79cea660541a",
   "metadata": {},
   "source": [
    "### Problem 5 - Finding Perfect Numbers"
   ]
  },
  {
   "cell_type": "code",
   "execution_count": null,
   "id": "062cc468-9942-46d3-a945-2ab31fea3cad",
   "metadata": {},
   "outputs": [],
   "source": [
    "def perfect_number(NumList):\n",
    "    sum = 0\n",
    "    for n in NumList:\n",
    "        \n",
    "        \n",
    "    if n % i == 0:        \n",
    "        sum + i\n",
    "        if sum + i == n:\n",
    "            True \n",
    "    else:\n",
    "        False\n",
    "    \n",
    "\n",
    "    \n",
    "return True     \n",
    "    "
   ]
  },
  {
   "cell_type": "code",
   "execution_count": 87,
   "id": "89a3fe34-aec9-4017-9667-7ce363e2f293",
   "metadata": {
    "tags": []
   },
   "outputs": [],
   "source": [
    "NumList = []\n",
    "for i in range (1,101):\n",
    "    NumList.append(i)"
   ]
  },
  {
   "cell_type": "code",
   "execution_count": 93,
   "id": "9c19d6a0-1119-4b95-a2e2-6b70c3059ef3",
   "metadata": {},
   "outputs": [],
   "source": [
    "Values = perfect_number(NumList)\n",
    "print(f'List of perfect numbers: {Values}')"
   ]
  },
  {
   "cell_type": "code",
   "execution_count": null,
   "id": "ebdf44fc-2dc3-4966-8cef-41c74fa8ca57",
   "metadata": {},
   "outputs": [],
   "source": []
  },
  {
   "cell_type": "code",
   "execution_count": null,
   "id": "14f2af21-adcb-4d8d-9d66-ef0e6746bdef",
   "metadata": {},
   "outputs": [],
   "source": []
  }
 ],
 "metadata": {
  "kernelspec": {
   "display_name": "Python 3 (ipykernel)",
   "language": "python",
   "name": "python3"
  },
  "language_info": {
   "codemirror_mode": {
    "name": "ipython",
    "version": 3
   },
   "file_extension": ".py",
   "mimetype": "text/x-python",
   "name": "python",
   "nbconvert_exporter": "python",
   "pygments_lexer": "ipython3",
   "version": "3.11.5"
  }
 },
 "nbformat": 4,
 "nbformat_minor": 5
}
